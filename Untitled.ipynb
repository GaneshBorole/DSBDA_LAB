{
 "cells": [
  {
   "cell_type": "code",
   "execution_count": null,
   "id": "06b809fa-02ae-48ec-941d-1c8ecded725a",
   "metadata": {},
   "outputs": [],
   "source": []
  }
 ],
 "metadata": {
  "kernelspec": {
   "display_name": "",
   "name": ""
  },
  "language_info": {
   "name": ""
  }
 },
 "nbformat": 4,
 "nbformat_minor": 5
}
